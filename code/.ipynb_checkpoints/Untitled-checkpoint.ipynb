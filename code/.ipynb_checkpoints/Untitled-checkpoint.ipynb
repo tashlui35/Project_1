{
 "cells": [
  {
   "cell_type": "markdown",
   "id": "5cd83fba-9984-4007-b80d-f2f03a0b9981",
   "metadata": {},
   "source": [
    "## Project 1"
   ]
  },
  {
   "cell_type": "code",
   "execution_count": 1,
   "id": "6f1eb7f2-5bdd-4822-b51c-a4846b019cf6",
   "metadata": {},
   "outputs": [],
   "source": [
    "# Initial imports\n",
    "import os\n",
    "import requests\n",
    "import pandas as pd\n",
    "from dotenv import load_dotenv\n",
    "import alpaca_trade_api as tradeapi\n",
    "from MCForecastTools import MCSimulation\n",
    "import matplotlib.pyplot as plt\n",
    "import numpy as np\n",
    "import datetime as dt\n",
    "import seaborn as sns\n",
    "\n",
    "%matplotlib inline"
   ]
  },
  {
   "cell_type": "code",
   "execution_count": 2,
   "id": "93f33c7e-e383-4bc9-aa18-2575287e4f41",
   "metadata": {},
   "outputs": [
    {
     "data": {
      "text/plain": [
       "True"
      ]
     },
     "execution_count": 2,
     "metadata": {},
     "output_type": "execute_result"
    }
   ],
   "source": [
    "# Load .env enviroment variables\n",
    "load_dotenv()"
   ]
  },
  {
   "cell_type": "markdown",
   "id": "fdf7e6ce-55c1-4a9f-a1b9-3a58780987e6",
   "metadata": {},
   "source": [
    "### Current price of shares"
   ]
  },
  {
   "cell_type": "code",
   "execution_count": 3,
   "id": "a56f816b-bd1c-4d30-a018-f26c74d9c8ec",
   "metadata": {},
   "outputs": [],
   "source": [
    "# Set current amount of shares\n",
    "my_jpm = 50\n",
    "my_jnj = 50\n",
    "my_msft = 50\n",
    "my_rio = 50\n",
    "my_pfe = 50"
   ]
  },
  {
   "cell_type": "code",
   "execution_count": 4,
   "id": "e1f96ec4-5d6d-4e91-913f-74c969d18189",
   "metadata": {},
   "outputs": [],
   "source": [
    "# Set Alpaca API key and secret\n",
    "alpaca_api_key = os.getenv(\"ALPACA_API_KEY\")\n",
    "alpaca_secret_key = os.getenv(\"ALPACA_SECRET_KEY\")"
   ]
  },
  {
   "cell_type": "code",
   "execution_count": 5,
   "id": "3e93ce93-f076-4f88-9ad6-5fb4b887c4ec",
   "metadata": {},
   "outputs": [],
   "source": [
    "# Create the Alpaca API object\n",
    "api = tradeapi.REST(\n",
    "    alpaca_api_key,\n",
    "    alpaca_secret_key,\n",
    "    api_version = \"v2\"\n",
    ")"
   ]
  },
  {
   "cell_type": "code",
   "execution_count": 6,
   "id": "80958cc0-6a93-4959-980f-9c23f4db6368",
   "metadata": {},
   "outputs": [],
   "source": [
    "# Format todays date as ISO format\n",
    "today = pd.Timestamp(\"2023-05-05\", tz=\"America/New_York\").isoformat()\n",
    "\n",
    "# Set the tickers\n",
    "tickers = ['JPM','JNJ','MSFT','RIO','PFE']\n",
    "\n",
    "# Set timeframe to \"1Day\" for Alpaca API\n",
    "timeframe = \"1Day\"\n",
    "\n",
    "# Get current closing prices\n",
    "df_portfolio = api.get_bars(\n",
    "    tickers,\n",
    "    timeframe,\n",
    "    start = today,\n",
    "    end = today\n",
    ").df"
   ]
  },
  {
   "cell_type": "code",
   "execution_count": 7,
   "id": "94dbb07c-21c1-4010-b256-1f76852b78f7",
   "metadata": {},
   "outputs": [
    {
     "data": {
      "text/html": [
       "<div>\n",
       "<style scoped>\n",
       "    .dataframe tbody tr th:only-of-type {\n",
       "        vertical-align: middle;\n",
       "    }\n",
       "\n",
       "    .dataframe tbody tr th {\n",
       "        vertical-align: top;\n",
       "    }\n",
       "\n",
       "    .dataframe thead tr th {\n",
       "        text-align: left;\n",
       "    }\n",
       "\n",
       "    .dataframe thead tr:last-of-type th {\n",
       "        text-align: right;\n",
       "    }\n",
       "</style>\n",
       "<table border=\"1\" class=\"dataframe\">\n",
       "  <thead>\n",
       "    <tr>\n",
       "      <th></th>\n",
       "      <th colspan=\"7\" halign=\"left\">JPM</th>\n",
       "      <th colspan=\"3\" halign=\"left\">JNJ</th>\n",
       "      <th>...</th>\n",
       "      <th colspan=\"3\" halign=\"left\">RIO</th>\n",
       "      <th colspan=\"7\" halign=\"left\">PFE</th>\n",
       "    </tr>\n",
       "    <tr>\n",
       "      <th></th>\n",
       "      <th>open</th>\n",
       "      <th>high</th>\n",
       "      <th>low</th>\n",
       "      <th>close</th>\n",
       "      <th>volume</th>\n",
       "      <th>trade_count</th>\n",
       "      <th>vwap</th>\n",
       "      <th>open</th>\n",
       "      <th>high</th>\n",
       "      <th>low</th>\n",
       "      <th>...</th>\n",
       "      <th>volume</th>\n",
       "      <th>trade_count</th>\n",
       "      <th>vwap</th>\n",
       "      <th>open</th>\n",
       "      <th>high</th>\n",
       "      <th>low</th>\n",
       "      <th>close</th>\n",
       "      <th>volume</th>\n",
       "      <th>trade_count</th>\n",
       "      <th>vwap</th>\n",
       "    </tr>\n",
       "    <tr>\n",
       "      <th>timestamp</th>\n",
       "      <th></th>\n",
       "      <th></th>\n",
       "      <th></th>\n",
       "      <th></th>\n",
       "      <th></th>\n",
       "      <th></th>\n",
       "      <th></th>\n",
       "      <th></th>\n",
       "      <th></th>\n",
       "      <th></th>\n",
       "      <th></th>\n",
       "      <th></th>\n",
       "      <th></th>\n",
       "      <th></th>\n",
       "      <th></th>\n",
       "      <th></th>\n",
       "      <th></th>\n",
       "      <th></th>\n",
       "      <th></th>\n",
       "      <th></th>\n",
       "      <th></th>\n",
       "    </tr>\n",
       "  </thead>\n",
       "  <tbody>\n",
       "    <tr>\n",
       "      <th>2023-05-05 04:00:00+00:00</th>\n",
       "      <td>136.44</td>\n",
       "      <td>137.88</td>\n",
       "      <td>135.912</td>\n",
       "      <td>136.74</td>\n",
       "      <td>11106638</td>\n",
       "      <td>128401</td>\n",
       "      <td>136.707656</td>\n",
       "      <td>162.84</td>\n",
       "      <td>163.13</td>\n",
       "      <td>161.69</td>\n",
       "      <td>...</td>\n",
       "      <td>3297822</td>\n",
       "      <td>32857</td>\n",
       "      <td>63.354188</td>\n",
       "      <td>38.38</td>\n",
       "      <td>38.5</td>\n",
       "      <td>38.09</td>\n",
       "      <td>38.49</td>\n",
       "      <td>18908137</td>\n",
       "      <td>116391</td>\n",
       "      <td>38.345047</td>\n",
       "    </tr>\n",
       "  </tbody>\n",
       "</table>\n",
       "<p>1 rows × 35 columns</p>\n",
       "</div>"
      ],
      "text/plain": [
       "                              JPM                                     \\\n",
       "                             open    high      low   close    volume   \n",
       "timestamp                                                              \n",
       "2023-05-05 04:00:00+00:00  136.44  137.88  135.912  136.74  11106638   \n",
       "\n",
       "                                                      JNJ                  \\\n",
       "                          trade_count        vwap    open    high     low   \n",
       "timestamp                                                                   \n",
       "2023-05-05 04:00:00+00:00      128401  136.707656  162.84  163.13  161.69   \n",
       "\n",
       "                           ...      RIO                           PFE        \\\n",
       "                           ...   volume trade_count       vwap   open  high   \n",
       "timestamp                  ...                                                \n",
       "2023-05-05 04:00:00+00:00  ...  3297822       32857  63.354188  38.38  38.5   \n",
       "\n",
       "                                                                          \n",
       "                             low  close    volume trade_count       vwap  \n",
       "timestamp                                                                 \n",
       "2023-05-05 04:00:00+00:00  38.09  38.49  18908137      116391  38.345047  \n",
       "\n",
       "[1 rows x 35 columns]"
      ]
     },
     "execution_count": 7,
     "metadata": {},
     "output_type": "execute_result"
    }
   ],
   "source": [
    "# Reorganize the DataFrame\n",
    "# Separate ticker data\n",
    "JPM = df_portfolio[df_portfolio['symbol']=='JPM'].drop('symbol', axis=1)\n",
    "JNJ = df_portfolio[df_portfolio['symbol']=='JNJ'].drop('symbol', axis=1)\n",
    "MSFT = df_portfolio[df_portfolio['symbol']=='MSFT'].drop('symbol', axis=1)\n",
    "RIO = df_portfolio[df_portfolio['symbol']=='RIO'].drop('symbol', axis=1)\n",
    "PFE = df_portfolio[df_portfolio['symbol']=='PFE'].drop('symbol', axis=1)\n",
    "# Concatenate the ticker DataFrames\n",
    "df_combined = pd.concat([JPM,JNJ,MSFT,RIO,PFE], axis=1, keys=['JPM','JNJ','MSFT','RIO','PFE'])\n",
    "df_combined"
   ]
  },
  {
   "cell_type": "code",
   "execution_count": 8,
   "id": "819ba62e-1c76-48c3-9a54-b6d9ad52011e",
   "metadata": {},
   "outputs": [],
   "source": [
    "# Pick JPM ,JNJ, MSFT ,RIO, and PFE close prices\n",
    "jpm_close_price = df_combined[\"JPM\"][\"close\"].values\n",
    "jnj_close_price = df_combined[\"JNJ\"][\"close\"].values\n",
    "msft_close_price = df_combined[\"MSFT\"][\"close\"].values\n",
    "rio_close_price = df_combined[\"RIO\"][\"close\"].values\n",
    "pfe_close_price = df_combined[\"PFE\"][\"close\"].values"
   ]
  },
  {
   "cell_type": "code",
   "execution_count": 9,
   "id": "7f17d187-9cac-4279-8a31-a45824ff5a53",
   "metadata": {},
   "outputs": [
    {
     "name": "stdout",
     "output_type": "stream",
     "text": [
      "Current JPM closing price: $[136.74]\n",
      "Current JNJ closing price: $[162.68]\n",
      "Current MSFT closing price: $[310.65]\n",
      "Current RIO closing price: $[63.67]\n",
      "Current PFE closing price: $[38.49]\n"
     ]
    }
   ],
   "source": [
    "# Print close prices\n",
    "print(f\"Current JPM closing price: ${jpm_close_price}\")\n",
    "print(f\"Current JNJ closing price: ${jnj_close_price}\")\n",
    "print(f\"Current MSFT closing price: ${msft_close_price}\")\n",
    "print(f\"Current RIO closing price: ${rio_close_price}\")\n",
    "print(f\"Current PFE closing price: ${pfe_close_price}\")"
   ]
  },
  {
   "cell_type": "markdown",
   "id": "a6aa3d08-0cf2-431c-9cdf-831191a52fc2",
   "metadata": {},
   "source": [
    "### Planning"
   ]
  },
  {
   "cell_type": "code",
   "execution_count": 12,
   "id": "71717e59-6eb4-43e5-bc9d-b8d71fdb196a",
   "metadata": {},
   "outputs": [],
   "source": [
    "# Format start and end date as ISO format\n",
    "start_date = pd.Timestamp(\"2020-08-07\", tz=\"America/New_York\").isoformat()\n",
    "end_date = pd.Timestamp(\"2022-08-07\", tz=\"America/New_York\").isoformat()"
   ]
  },
  {
   "cell_type": "code",
   "execution_count": 25,
   "id": "31a31f5e-9717-493e-a9b9-1a9e2229fd80",
   "metadata": {},
   "outputs": [],
   "source": [
    "# Get 5 years' worth of historical data \n",
    "ticker_data = api.get_bars(\n",
    "    tickers,\n",
    "    timeframe,\n",
    "    start = start_date,\n",
    "    end = end_date\n",
    ").df\n",
    "# Reorganize the DataFrame\n",
    "# Separate ticker data\n",
    "JPM_2 = ticker_data[ticker_data['symbol']=='JPM'].drop('symbol', axis=1)\n",
    "JNJ_2 = ticker_data[ticker_data['symbol']=='JNJ'].drop('symbol', axis=1)\n",
    "MSFT_2 = ticker_data[ticker_data['symbol']=='MSFT'].drop('symbol', axis=1)\n",
    "RIO_2 = ticker_data[ticker_data['symbol']=='RIO'].drop('symbol', axis=1)\n",
    "PFE_2 = ticker_data[ticker_data['symbol']=='PFE'].drop('symbol', axis=1)\n",
    "\n",
    "JPM_2 = JPM_2['close']\n",
    "JNJ_2 = JNJ_2['close']\n",
    "MSFT_2 = MSFT_2['close']\n",
    "RIO_2 = RIO_2['close']\n",
    "PFE_2 = PFE_2['close']\n",
    "\n",
    "\n",
    "JPM_returns = JPM_2.pct_change().dropna().copy()\n",
    "JNJ_returns = JNJ_2.pct_change().dropna().copy()\n",
    "MSFT_returns = MSFT_2.pct_change().dropna().copy()\n",
    "RIO_returns = RIO_2.pct_change().dropna().copy()\n",
    "PFE_returns = PFE_2.pct_change().dropna().copy()"
   ]
  },
  {
   "cell_type": "code",
   "execution_count": 27,
   "id": "c1ee0ebc-67e9-4ba0-b128-956a316e8790",
   "metadata": {},
   "outputs": [
    {
     "data": {
      "text/html": [
       "<div>\n",
       "<style scoped>\n",
       "    .dataframe tbody tr th:only-of-type {\n",
       "        vertical-align: middle;\n",
       "    }\n",
       "\n",
       "    .dataframe tbody tr th {\n",
       "        vertical-align: top;\n",
       "    }\n",
       "\n",
       "    .dataframe thead th {\n",
       "        text-align: right;\n",
       "    }\n",
       "</style>\n",
       "<table border=\"1\" class=\"dataframe\">\n",
       "  <thead>\n",
       "    <tr style=\"text-align: right;\">\n",
       "      <th></th>\n",
       "      <th>JPM_2</th>\n",
       "      <th>JNJ_2</th>\n",
       "      <th>MSFT_2</th>\n",
       "      <th>RIO_2</th>\n",
       "      <th>PFE_2</th>\n",
       "    </tr>\n",
       "    <tr>\n",
       "      <th>timestamp</th>\n",
       "      <th></th>\n",
       "      <th></th>\n",
       "      <th></th>\n",
       "      <th></th>\n",
       "      <th></th>\n",
       "    </tr>\n",
       "  </thead>\n",
       "  <tbody>\n",
       "    <tr>\n",
       "      <th>2020-08-10 04:00:00+00:00</th>\n",
       "      <td>0.012679</td>\n",
       "      <td>-0.003836</td>\n",
       "      <td>-0.019908</td>\n",
       "      <td>0.010829</td>\n",
       "      <td>-0.001560</td>\n",
       "    </tr>\n",
       "    <tr>\n",
       "      <th>2020-08-11 04:00:00+00:00</th>\n",
       "      <td>0.031598</td>\n",
       "      <td>-0.007161</td>\n",
       "      <td>-0.023385</td>\n",
       "      <td>-0.004220</td>\n",
       "      <td>-0.015629</td>\n",
       "    </tr>\n",
       "    <tr>\n",
       "      <th>2020-08-12 04:00:00+00:00</th>\n",
       "      <td>-0.008476</td>\n",
       "      <td>0.018303</td>\n",
       "      <td>0.028567</td>\n",
       "      <td>0.015811</td>\n",
       "      <td>0.014289</td>\n",
       "    </tr>\n",
       "    <tr>\n",
       "      <th>2020-08-13 04:00:00+00:00</th>\n",
       "      <td>-0.005537</td>\n",
       "      <td>-0.011092</td>\n",
       "      <td>-0.002342</td>\n",
       "      <td>-0.008344</td>\n",
       "      <td>-0.004174</td>\n",
       "    </tr>\n",
       "    <tr>\n",
       "      <th>2020-08-14 04:00:00+00:00</th>\n",
       "      <td>0.000391</td>\n",
       "      <td>0.001622</td>\n",
       "      <td>0.000958</td>\n",
       "      <td>-0.003398</td>\n",
       "      <td>-0.002882</td>\n",
       "    </tr>\n",
       "  </tbody>\n",
       "</table>\n",
       "</div>"
      ],
      "text/plain": [
       "                              JPM_2     JNJ_2    MSFT_2     RIO_2     PFE_2\n",
       "timestamp                                                                  \n",
       "2020-08-10 04:00:00+00:00  0.012679 -0.003836 -0.019908  0.010829 -0.001560\n",
       "2020-08-11 04:00:00+00:00  0.031598 -0.007161 -0.023385 -0.004220 -0.015629\n",
       "2020-08-12 04:00:00+00:00 -0.008476  0.018303  0.028567  0.015811  0.014289\n",
       "2020-08-13 04:00:00+00:00 -0.005537 -0.011092 -0.002342 -0.008344 -0.004174\n",
       "2020-08-14 04:00:00+00:00  0.000391  0.001622  0.000958 -0.003398 -0.002882"
      ]
     },
     "execution_count": 27,
     "metadata": {},
     "output_type": "execute_result"
    }
   ],
   "source": [
    "# Concatenate the ticker DataFrames\n",
    "df_stock_data = pd.concat([JPM_returns,JNJ_returns,MSFT_returns,RIO_returns,PFE_returns], \n",
    "                          axis=1, keys=['JPM_2','JNJ_2','MSFT_2','RIO_2','PFE_2'])\n",
    "\n",
    "# Display sample data\n",
    "df_stock_data.head()"
   ]
  }
 ],
 "metadata": {
  "kernelspec": {
   "display_name": "Python 3 (ipykernel)",
   "language": "python",
   "name": "python3"
  },
  "language_info": {
   "codemirror_mode": {
    "name": "ipython",
    "version": 3
   },
   "file_extension": ".py",
   "mimetype": "text/x-python",
   "name": "python",
   "nbconvert_exporter": "python",
   "pygments_lexer": "ipython3",
   "version": "3.7.13"
  }
 },
 "nbformat": 4,
 "nbformat_minor": 5
}
